{
 "cells": [
  {
   "cell_type": "code",
   "execution_count": 1,
   "id": "fossil-pantyhose",
   "metadata": {},
   "outputs": [
    {
     "name": "stderr",
     "output_type": "stream",
     "text": [
      "/Users/endingalaporte/Documents/python/miniconda3/envs/env/lib/python3.8/site-packages/graph_tool/draw/cairo_draw.py:1494: RuntimeWarning: Error importing Gtk module: No module named 'gi'; GTK+ drawing will not work.\n",
      "  warnings.warn(msg, RuntimeWarning)\n"
     ]
    }
   ],
   "source": [
    "import graph_tool as gt\n",
    "import graph_tool.collection as gtc\n",
    "import graph_tool.draw as gtd\n",
    "\n",
    "import numpy as np\n",
    "import itertools\n",
    "import time\n",
    "\n",
    "\n",
    "def k_parmi_n(k,n):\n",
    "    \"\"\"binomial coefficient k parmi n\"\"\"\n",
    "    num = np.math.factorial(n)\n",
    "    denom = np.math.factorial(k)*np.math.factorial(n-k)\n",
    "    return num/denom\n",
    "\n",
    "def d(w):\n",
    "    \"\"\"given vertex w, returns its total degree\"\"\"\n",
    "    return (w.in_degree() + w.out_degree())\n",
    "\n",
    "\n",
    "def S_set(w : gt.libgraph_tool_core.Vertex):\n",
    "    \"\"\"returns sets of vertices that forms a 2-star centered at vertex w\"\"\"\n",
    "    nodes = list(w.all_neighbors())\n",
    "    nb = len(nodes)\n",
    "    Sw = []\n",
    "    if nb >= 2: #if more then 2 surrounding node, w is part of at least one 2-star\n",
    "        if (nb % 2) == 0:#pair\n",
    "            Sw = list(w.all_neighbors())  #we will be careful to distinct generators and list-tuples, last two are called\n",
    "        if (nb % 2) != 0: #impaire #can use else here for faster code?\n",
    "            Sw = list(nodes[0:(nb-1)])\n",
    "        Sw.append(w) #w is part of 2-star since it is the center of each one\n",
    "    return list(Sw)\n",
    "\n",
    "def Te_set(G : gt.Graph, e : gt.libgraph_tool_core.Edge):\n",
    "    \"\"\"given graph G and edge e, returns set of vertices Te that form triangles with edge e\"\"\"\n",
    "    v = e.source()\n",
    "    u = e.target()\n",
    "    Te = []\n",
    "    \n",
    "    #create iterator over all vertex neighbors of v and u, remove repeated vertex, remove v and u\n",
    "    ite_without_repeat = list(itertools.chain(v.all_neighbors(), u.all_neighbors()))\n",
    "    for w in v.all_neighbors():\n",
    "        if w in u.all_neighbors():\n",
    "            ite_without_repeat.remove(w)\n",
    "    ite_without_repeat.remove(u) #should remove u and v from this, otherwise we test\n",
    "    ite_without_repeat.remove(v) #if u is in u and it is, but can be triangle with itself\n",
    "    \n",
    "    #create Te set of vertices following math definition of the set Te    \n",
    "    for w in ite_without_repeat:\n",
    "        if (w in v.all_neighbors()) and (w in u.all_neighbors()):\n",
    "            Te.append(w)\n",
    "    return(Te)\n",
    "\n",
    "def LOCALGRAPHLET(G : gt.Graph, e : gt.libgraph_tool_core.Edge):\n",
    "    \"\"\"given graph G and edge e, returns graphlet G1,G2,G5,G6,G7,G8,G9,G10 degree vector of the edge\"\"\"\n",
    "    #graphlet counts\n",
    "    x5 = 0\n",
    "    x7 = 0\n",
    "    x8 = 0\n",
    "    sigma = 0\n",
    "    \n",
    "    #lookup table is a dictionnary\n",
    "    psi = dict()\n",
    "    \n",
    "    #vertices objects and sets of vertices objects\n",
    "    v = e.source()\n",
    "    u = e.target()\n",
    "    Sv = S_set(v)\n",
    "    Su = S_set(u)\n",
    "    \n",
    "    #set of edge objects\n",
    "    Te = Te_set(G,e) \n",
    "    \n",
    "    #count graphlets x5, x7, x8 directly in graph\n",
    "    for w in v.all_neighbors():\n",
    "        if w != u:\n",
    "            Sv.append(w)\n",
    "            psi[w] = 'lambda1'\n",
    "    for w in u.all_neighbors():\n",
    "        if w != v:\n",
    "            if (w in psi.keys()) == True:\n",
    "                if psi[w] == 'lambda1': #careful to check w is a key of dictionnary psi before calling value psi[w]\n",
    "                    Te.append(w)\n",
    "                    psi[w] = 'lambda3'\n",
    "                    Sv.remove(w)\n",
    "                    psi[w] = 'lambda2'\n",
    "    for w in Te:\n",
    "        for r in w.all_neighbors():\n",
    "            if (r in psi.keys()) == True:\n",
    "                if psi[r] == 'lambda3':\n",
    "                    x5 = x5 +1\n",
    "                psi[w] = 'lambda4'\n",
    "    for w in Su:\n",
    "        for r in w.all_neighbors():\n",
    "            if (r in psi.keys()) == True:\n",
    "                if psi[r] == 'lambda1':\n",
    "                    x8 = x8 + 1\n",
    "                if psi[r] == 'lambda2':\n",
    "                    x7 = x7 +1\n",
    "                if psi[r] == 'lambda4':\n",
    "                    sigma = sigma + 1\n",
    "        psi[w] = 0\n",
    "    for w in Sv:\n",
    "        for r in w.all_neighbors():\n",
    "            if (r in psi.keys()) == True: #is it necessary to check if r in psi.keys() here? Did we did it just before?\n",
    "                if psi[r] == 'lambda1':\n",
    "                    x7 = x7 + 1\n",
    "                if psi[r] == 'lambda4':\n",
    "                    sigma = sigma + 1\n",
    "        psi[w] = 0\n",
    "    \n",
    "    #graphlets counts x1, x2, x6, x9, x10 deduced\n",
    "    \n",
    "    x1 = len(tuple(Te))\n",
    "    x2 = (d(u) + d(v) - 2) - 2*len(Te) #sometimes get negative counts\n",
    "    #x6 = k_parmi_n(2, len(tuple(Te))) - x5 #need to solve, (k parmi n) for n >=k, otherwise negative factorial is impossible\n",
    "    #x9 = k_parmi_n(2, len(tuple(Sv))) + k_parmi_n(2, len(tuple(Sv))) - x7\n",
    "    x10 = (len(tuple(Sv))*len(tuple(Su))) - x8\n",
    "    \n",
    "    return(np.array([x1, x2, x5, x7, x8]))\n",
    "\n",
    "\n"
   ]
  },
  {
   "cell_type": "code",
   "execution_count": 3,
   "id": "israeli-roller",
   "metadata": {
    "scrolled": true
   },
   "outputs": [
    {
     "name": "stdout",
     "output_type": "stream",
     "text": [
      "duration is 45.96903920173645\n"
     ]
    },
    {
     "data": {
      "text/plain": [
       "(41802, 5)"
      ]
     },
     "metadata": {},
     "output_type": "display_data"
    },
    {
     "data": {
      "text/plain": [
       "array([[0, 3, 0, 0, 1],\n",
       "       [0, 3, 0, 0, 1],\n",
       "       [0, 4, 0, 1, 2],\n",
       "       ...,\n",
       "       [0, 4, 0, 3, 0],\n",
       "       [0, 2, 0, 0, 0],\n",
       "       [0, 2, 0, 0, 0]], dtype=object)"
      ]
     },
     "execution_count": 3,
     "metadata": {},
     "output_type": "execute_result"
    }
   ],
   "source": [
    "#import Brest's graph edgelist and create graph G of Brest\n",
    "import pandas as pd\n",
    "\n",
    "df = pd.read_csv(\"/Users/endingalaporte/Desktop/planning/W10_0504-1205_GRAPHLET_CENTRALITY/edgelist_brest.csv\")\n",
    "edge = np.array([np.array(df['0.000000000000000000e+00'].values).astype(int),\n",
    "                 np.array(df['1.000000000000000000e+00'].values).astype(int)])\n",
    "edge = edge.T\n",
    "G = gt.Graph(directed = False)\n",
    "G.add_edge_list(edge)\n",
    "\n",
    "#get matrix\n",
    "\n",
    "#G = graph('triangles')\n",
    "#gtd.graph_draw(G, output_size = (100,100))\n",
    "\n",
    "s = time.time()\n",
    "matrix = []\n",
    "for e in G.edges():\n",
    "    matrix.append(LOCALGRAPHLET(G, e))\n",
    "matrix = np.array(matrix)\n",
    "print(\"duration is\",time.time()-s)\n",
    "\n",
    "display(matrix.shape)\n",
    "matrix"
   ]
  },
  {
   "cell_type": "code",
   "execution_count": 4,
   "id": "twelve-supervisor",
   "metadata": {},
   "outputs": [
    {
     "data": {
      "text/plain": [
       "<Graph object, undirected, with 30595 vertices and 41802 edges at 0x10c1cb0a0>"
      ]
     },
     "execution_count": 4,
     "metadata": {},
     "output_type": "execute_result"
    }
   ],
   "source": [
    "G"
   ]
  },
  {
   "cell_type": "code",
   "execution_count": null,
   "id": "independent-madness",
   "metadata": {},
   "outputs": [],
   "source": []
  },
  {
   "cell_type": "code",
   "execution_count": null,
   "id": "liquid-diesel",
   "metadata": {},
   "outputs": [],
   "source": []
  },
  {
   "cell_type": "code",
   "execution_count": null,
   "id": "crazy-squad",
   "metadata": {},
   "outputs": [],
   "source": []
  },
  {
   "cell_type": "code",
   "execution_count": null,
   "id": "constant-taylor",
   "metadata": {},
   "outputs": [],
   "source": []
  },
  {
   "cell_type": "code",
   "execution_count": null,
   "id": "brazilian-conversation",
   "metadata": {},
   "outputs": [],
   "source": []
  },
  {
   "cell_type": "code",
   "execution_count": 11,
   "id": "measured-separate",
   "metadata": {},
   "outputs": [
    {
     "name": "stdout",
     "output_type": "stream",
     "text": [
      "calculation time is 101.41974782943726\n"
     ]
    },
    {
     "data": {
      "image/png": "[encoded data removed]",
      "text/plain": [
       "<Figure size 432x288 with 1 Axes>"
      ]
     },
     "metadata": {
      "needs_background": "light"
     },
     "output_type": "display_data"
    }
   ],
   "source": [
    "#reduce matrix dimension to 2D using TSNE, plot\n",
    "s = time.time()\n",
    "\n",
    "#scale 0 to 1\n",
    "from sklearn.preprocessing import MinMaxScaler\n",
    "scaler = MinMaxScaler()\n",
    "scaler.fit(matrix[0:10000]) #first 10000 edges\n",
    "scaled_matrix = scaler.transform(matrix[0:10000])\n",
    "#embed matrix in 2D\n",
    "from sklearn.manifold import TSNE\n",
    "embedded = TSNE(n_components = 2).fit_transform(scaled_matrix)\n",
    "import matplotlib.pyplot as plt\n",
    "plt.scatter(embedded[:,0], embedded[:,1])\n",
    "print(\"calculation time is\",time.time()-s)"
   ]
  },
  {
   "cell_type": "code",
   "execution_count": 15,
   "id": "acoustic-agenda",
   "metadata": {},
   "outputs": [
    {
     "data": {
      "image/png": "[encoded data removed]",
      "text/plain": [
       "<IPython.core.display.Image object>"
      ]
     },
     "metadata": {},
     "output_type": "display_data"
    },
    {
     "data": {
      "image/png": "[encoded data removed]",
      "text/plain": [
       "<IPython.core.display.Image object>"
      ]
     },
     "metadata": {},
     "output_type": "display_data"
    },
    {
     "data": {
      "image/png": "[encoded data removed]",
      "text/plain": [
       "<IPython.core.display.Image object>"
      ]
     },
     "metadata": {},
     "output_type": "display_data"
    },
    {
     "data": {
      "image/png": "[encoded data removed]",
      "text/plain": [
       "<IPython.core.display.Image object>"
      ]
     },
     "metadata": {},
     "output_type": "display_data"
    },
    {
     "data": {
      "image/png": "[encoded data removed]",
      "text/plain": [
       "<IPython.core.display.Image object>"
      ]
     },
     "metadata": {},
     "output_type": "display_data"
    },
    {
     "data": {
      "image/png": "[encoded data removed]",
      "text/plain": [
       "<IPython.core.display.Image object>"
      ]
     },
     "metadata": {},
     "output_type": "display_data"
    },
    {
     "data": {
      "image/png": "[encoded data removed]",
      "text/plain": [
       "<IPython.core.display.Image object>"
      ]
     },
     "metadata": {},
     "output_type": "display_data"
    },
    {
     "data": {
      "image/png": "[encoded data removed]",
      "text/plain": [
       "<IPython.core.display.Image object>"
      ]
     },
     "metadata": {},
     "output_type": "display_data"
    },
    {
     "data": {
      "image/png": "[encoded data removed]",
      "text/plain": [
       "<IPython.core.display.Image object>"
      ]
     },
     "metadata": {},
     "output_type": "display_data"
    }
   ],
   "source": [
    "#graphs for beta testing LOCALGRAPHLET\n",
    "graphs = [graph('triangles'),graph('line'),\n",
    "          graph('siam'),graph('2star'),\n",
    "          graph('circle'),graph('single_triangle'),\n",
    "          graph('single_2star'), graph('single_3star'), graph('single_4star')]\n",
    "for g in graphs:\n",
    "    gtd.graph_draw(g, output_size = (70,70))"
   ]
  },
  {
   "cell_type": "code",
   "execution_count": 13,
   "id": "swedish-garlic",
   "metadata": {},
   "outputs": [
    {
     "name": "stdout",
     "output_type": "stream",
     "text": [
      "non\n"
     ]
    },
    {
     "data": {
      "text/plain": [
       "['chose']"
      ]
     },
     "metadata": {},
     "output_type": "display_data"
    },
    {
     "data": {
      "text/plain": [
       "[2, 1, 3, 4, 1]"
      ]
     },
     "metadata": {},
     "output_type": "display_data"
    },
    {
     "data": {
      "text/plain": [
       "[2, 3, 4, 1]"
      ]
     },
     "metadata": {},
     "output_type": "display_data"
    },
    {
     "data": {
      "text/plain": [
       "[2, 3, 4]"
      ]
     },
     "metadata": {},
     "output_type": "display_data"
    },
    {
     "data": {
      "image/png": "[encoded data removed]",
      "text/plain": [
       "<IPython.core.display.Image object>"
      ]
     },
     "metadata": {},
     "output_type": "display_data"
    },
    {
     "data": {
      "text/plain": [
       "[<Vertex object with index '1' at 0x166cebf90>,\n",
       " <Vertex object with index '2' at 0x166ceb690>,\n",
       " <Vertex object with index '0' at 0x166b833f0>]"
      ]
     },
     "execution_count": 13,
     "metadata": {},
     "output_type": "execute_result"
    }
   ],
   "source": [
    "#TRASH \n",
    "\n",
    "#specific graphs for testing\n",
    "\n",
    "def graph(t):\n",
    "    \"\"\"given string type of graph, returns graph type\"\"\"\n",
    "    G = gt.Graph(directed = False)\n",
    "    if t == 'triangles':\n",
    "        G.add_edge_list([(0,1),(1,2),(2,0),(2,3),\n",
    "                         (3,4),(4,2),(4,5),(5,2),\n",
    "                         (6,7),(7,8),(6,8),(6,9),\n",
    "                         (9,8),(6,10),(10,8),(4,11),\n",
    "                         (11,6)])\n",
    "    if t == 'line':\n",
    "        G.add_edge_list([(1,2),(2,3),(3,4),(4,2),(4,5),(5,6),(6,7),(7,5),(5,8),(8,0)])\n",
    "    if t == 'siam':\n",
    "        G.add_edge_list([[0, 1],[1, 2],[1, 3],[2, 4],\n",
    "                         [2, 5],[3, 2],[3, 6],[5, 8],\n",
    "                         [5, 7],[6, 7],[6, 5],[7, 9]])\n",
    "    if t == '2star':\n",
    "        G.add_edge_list([(1,2),(2,3),(3,4),(3,5),\n",
    "                         (3,6),(3,7),(3,8),(3,9),\n",
    "                         (3,10),(10,11),(11,13),\n",
    "                         (12,13),(13,14),(13,15),\n",
    "                         (15,0)])\n",
    "    if t == 'circle':\n",
    "        G.add_edge_list([(0,1),(1,2),(2,3),(3,4),(4,5),(5,6),(6,0)])\n",
    "    if t == 'single_triangle':\n",
    "        G.add_edge_list([(0,1),(1,2),(2,0)])\n",
    "    if t == 'single_2star':\n",
    "        G.add_edge_list([(0,1),(1,2)])\n",
    "    if t == 'single_3star':\n",
    "        G.add_edge_list([(0,1),(1,2),(1,3)])\n",
    "    if t == 'single_4star':\n",
    "        G.add_edge_list([(0,1),(1,2),(1,3),(1,4)])\n",
    "    return G\n",
    "\n",
    "#if else pas égale\n",
    "a = 1\n",
    "b = 0\n",
    "if a != b:\n",
    "    print(\"non\")\n",
    "else:\n",
    "    print(\"égal\")\n",
    "\n",
    "#si on a une liste, peut on mettre à jour cette liste par une forme plus proche de la syntaxe du code du paper\n",
    "#i.e. pas liste.append(chose) mais liste = liste.append(chose) ? Non car liste.append() revoit un NoneType\n",
    "\n",
    "liste = []\n",
    "liste.append('chose')\n",
    "\n",
    "#can remove element from liste \n",
    "\n",
    "liste = []\n",
    "liste.append('chose')\n",
    "display(liste)\n",
    "liste.append('truc')\n",
    "liste.remove('chose')\n",
    "liste\n",
    "\n",
    "#objects can be keys in dictionnaries\n",
    "\n",
    "G = graph('siam')\n",
    "e = tuple(G.edges())[0]\n",
    "\n",
    "#call first and second vertex object in edge object that way\n",
    "e, e.source(), e.target()\n",
    "\n",
    "#can call edge object in these two same ways\n",
    "\n",
    "tuple(G.edges())[0] == list(G.edges())[0]\n",
    "\n",
    "#dictionnary is a lookup table \n",
    "e1 = tuple(G.vertices())[1]\n",
    "e2 = tuple(G.vertices())[2]\n",
    "e3 = tuple(G.vertices())[3]\n",
    "e4 = tuple(G.vertices())[4]\n",
    "\n",
    "table = dict()\n",
    "table[e1] = 'lambda1'\n",
    "table[e2] = 'lambda2'\n",
    "\n",
    "table[e4] = 'lambda3' #add to lookup table\n",
    "\n",
    "table[e4] == 'lambda3' #test value\n",
    "\n",
    "#returns pair number liste of elements\n",
    "\n",
    "liste = [0,1,2,3,4,5]\n",
    "\n",
    "long = len(liste)\n",
    "S = []\n",
    "if long % 2 == 0: #pair\n",
    "    S = liste\n",
    "if long % 2 != 0: #impair\n",
    "    S = liste[0:long-1]\n",
    "\n",
    "#remove method removes first matching value in list from left\n",
    "\n",
    "l = [1,2,1,3,4,1]\n",
    "\n",
    "l.remove(1)\n",
    "display(l)\n",
    "l.remove(1)\n",
    "display(l)\n",
    "l.remove(1)\n",
    "display(l)\n",
    "\n",
    "\n",
    "#checking S_set\n",
    "\n",
    "G = graph('single_triangle')\n",
    "gtd.graph_draw(G, output_size = (100,100))\n",
    "#e = tuple(G.edges())[1]\n",
    "v = tuple(G.vertices())[0]\n",
    "\n",
    "S_set(v)"
   ]
  },
  {
   "cell_type": "code",
   "execution_count": null,
   "id": "toxic-blade",
   "metadata": {},
   "outputs": [],
   "source": []
  }
 ],
 "metadata": {
  "kernelspec": {
   "display_name": "Python 3",
   "language": "python",
   "name": "python3"
  },
  "language_info": {
   "codemirror_mode": {
    "name": "ipython",
    "version": 3
   },
   "file_extension": ".py",
   "mimetype": "text/x-python",
   "name": "python",
   "nbconvert_exporter": "python",
   "pygments_lexer": "ipython3",
   "version": "3.8.5"
  }
 },
 "nbformat": 4,
 "nbformat_minor": 5
}
